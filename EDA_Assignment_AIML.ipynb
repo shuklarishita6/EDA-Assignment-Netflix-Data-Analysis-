{
 "cells": [
  {
   "cell_type": "markdown",
   "id": "8dad588b",
   "metadata": {},
   "source": [
    "EDA-Assignment-AIML"
   ]
  },
  {
   "cell_type": "code",
   "execution_count": null,
   "id": "03ccc29f",
   "metadata": {},
   "outputs": [],
   "source": [
    "import numpy as np\n",
    "import pandas as pd\n",
    "import seaborn as sns\n",
    "import matplotlib.pyplot as plt"
   ]
  },
  {
   "cell_type": "code",
   "execution_count": null,
   "id": "80f9d12f",
   "metadata": {},
   "outputs": [],
   "source": [
    "# Task 1: Data Overview\n",
    "\n",
    "df = pd.read_csv('netflix_customer_churn.csv')\n",
    "df.head()\n",
    "df.isnull().sum()\n",
    "df.nunique()"
   ]
  },
  {
   "cell_type": "code",
   "execution_count": null,
   "id": "40352f27",
   "metadata": {},
   "outputs": [],
   "source": [
    "#  Task 2: Univariate Analysis\n",
    "\n",
    "sns.histplot(df['age'], kde=True)\n",
    "plt.show()\n"
   ]
  },
  {
   "cell_type": "code",
   "execution_count": null,
   "id": "0b348fca",
   "metadata": {},
   "outputs": [],
   "source": [
    "sns.histplot(df['watch_hours'], kde=True)\n",
    "plt.show()\n"
   ]
  },
  {
   "cell_type": "code",
   "execution_count": null,
   "id": "0e78ae16",
   "metadata": {},
   "outputs": [],
   "source": [
    "sns.histplot(df['monthly_fee'], kde=True)\n",
    "plt.show()"
   ]
  },
  {
   "cell_type": "code",
   "execution_count": null,
   "id": "e51c45c0",
   "metadata": {},
   "outputs": [],
   "source": [
    "sns.countplot(x='churned', data=df)\n",
    "plt.show()"
   ]
  },
  {
   "cell_type": "code",
   "execution_count": null,
   "id": "eb3b03ed",
   "metadata": {},
   "outputs": [],
   "source": [
    "sns.countplot(x='subscription_type', data=df)\n",
    "plt.show()"
   ]
  },
  {
   "cell_type": "code",
   "execution_count": null,
   "id": "7a8a5b6f",
   "metadata": {},
   "outputs": [],
   "source": [
    "sns.countplot(x='gender', data=df)\n",
    "plt.show()"
   ]
  },
  {
   "cell_type": "code",
   "execution_count": null,
   "id": "3f444f3f",
   "metadata": {},
   "outputs": [],
   "source": [
    "sns.countplot(x='region', data=df)\n",
    "plt.show()"
   ]
  },
  {
   "cell_type": "code",
   "execution_count": null,
   "id": "39677b47",
   "metadata": {},
   "outputs": [],
   "source": [
    "sns.countplot(x='device', data=df)\n",
    "plt.show()"
   ]
  },
  {
   "cell_type": "code",
   "execution_count": null,
   "id": "80514a4d",
   "metadata": {},
   "outputs": [],
   "source": [
    "sns.countplot(x='payment_method', data=df)\n",
    "plt.show()"
   ]
  },
  {
   "cell_type": "code",
   "execution_count": null,
   "id": "176b03cb",
   "metadata": {},
   "outputs": [],
   "source": [
    "sns.countplot(x='favorite_genre', data=df)\n",
    "plt.xticks(rotation=45)\n",
    "plt.show()"
   ]
  },
  {
   "cell_type": "code",
   "execution_count": null,
   "id": "e57431d9",
   "metadata": {},
   "outputs": [],
   "source": [
    "# Task 3: Bivariate Analysis\n",
    "\n",
    "df.groupby('subscription_type')[['watch_hours', 'monthly_fee']].mean().plot(kind='bar')\n",
    "plt.show()"
   ]
  },
  {
   "cell_type": "code",
   "execution_count": null,
   "id": "c364b223",
   "metadata": {},
   "outputs": [],
   "source": [
    "df.groupby('region')[['watch_hours', 'monthly_fee']].mean().plot(kind='bar')\n",
    "plt.show()"
   ]
  },
  {
   "cell_type": "code",
   "execution_count": null,
   "id": "e5cb278c",
   "metadata": {},
   "outputs": [],
   "source": [
    "df.groupby('device')[['watch_hours', 'monthly_fee']].mean().plot(kind='bar')\n",
    "plt.show()"
   ]
  },
  {
   "cell_type": "code",
   "execution_count": null,
   "id": "29aa43fc",
   "metadata": {},
   "outputs": [],
   "source": [
    "df.groupby('favorite_genre')['avg_watch_time_per_day'].mean().plot(kind='bar')\n",
    "plt.xticks(rotation=45)\n",
    "plt.show()"
   ]
  },
  {
   "cell_type": "code",
   "execution_count": null,
   "id": "24cf8c79",
   "metadata": {},
   "outputs": [],
   "source": [
    "df.groupby('gender')['churned'].mean().plot(kind='bar')\n",
    "plt.show()"
   ]
  },
  {
   "cell_type": "code",
   "execution_count": null,
   "id": "853f0c93",
   "metadata": {},
   "outputs": [],
   "source": [
    "df.groupby('region')['churned'].mean().plot(kind='bar')\n",
    "plt.show()"
   ]
  },
  {
   "cell_type": "code",
   "execution_count": null,
   "id": "0b578f7d",
   "metadata": {},
   "outputs": [],
   "source": [
    "df.groupby('subscription_type')['churned'].mean().plot(kind='bar')\n",
    "plt.show()"
   ]
  },
  {
   "cell_type": "code",
   "execution_count": null,
   "id": "0d6699ab",
   "metadata": {},
   "outputs": [],
   "source": [
    "df.groupby('payment_method')['churned'].mean().plot(kind='bar')\n",
    "plt.show()"
   ]
  },
  {
   "cell_type": "code",
   "execution_count": null,
   "id": "d2a2c80c",
   "metadata": {},
   "outputs": [],
   "source": [
    "#  Task 4: Correlation Analysis\n",
    "\n",
    "sns.heatmap(df.corr(numeric_only=True), annot=True, cmap='coolwarm')\n",
    "plt.show()\n"
   ]
  }
 ],
 "metadata": {
  "kernelspec": {
   "display_name": "Python 3",
   "language": "python",
   "name": "python3"
  },
  "language_info": {
   "codemirror_mode": {
    "name": "ipython",
    "version": 3
   },
   "file_extension": ".py",
   "mimetype": "text/x-python",
   "name": "python",
   "nbconvert_exporter": "python",
   "pygments_lexer": "ipython3",
   "version": "3.13.4"
  }
 },
 "nbformat": 4,
 "nbformat_minor": 5
}
